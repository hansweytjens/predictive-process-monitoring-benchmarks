{
 "cells": [
  {
   "cell_type": "code",
   "execution_count": null,
   "id": "b557c412",
   "metadata": {},
   "outputs": [],
   "source": [
    "from pm4py.objects.log.importer.xes import importer as xes_importer\n",
    "from pm4py.objects.conversion.log import converter\n",
    "import pandas as pd\n",
    "from create_benchmarks import remainTimeOrClassifBenchmark, nextEventBenchmark"
   ]
  },
  {
   "cell_type": "markdown",
   "id": "played-cleveland",
   "metadata": {},
   "source": [
    "## BPIC_2012"
   ]
  },
  {
   "cell_type": "code",
   "execution_count": null,
   "id": "dress-handle",
   "metadata": {},
   "outputs": [],
   "source": [
    "NAME = \"BPI_Challenge_2012\"\n",
    "PATH = r\"D:\\Data\\BPIC_2012\"\n",
    "START_DATE = None \n",
    "END_DATE = \"2012-02\"\n",
    "MAX_DAYS = 32.28\n",
    "TEST_LEN_SHARE = .2"
   ]
  },
  {
   "cell_type": "code",
   "execution_count": null,
   "id": "85095601",
   "metadata": {},
   "outputs": [],
   "source": [
    "KEYWORDS_DICT = {}\n",
    "KEYWORDS_DICT[\"approved\"] = [\"A_REGISTERED_COMPLETE\", \"A_APPROVED_COMPLETE\", \"O_ACCEPTED_COMPLETE\", \"A_ACTIVATED_COMPLETE\"]\n",
    "KEYWORDS_DICT[\"declined\"] = [\"A_DECLINED_COMPLETE\", \"O_DECLINED_COMPLETE\"]\n",
    "KEYWORDS_DICT[\"canceled\"] = [\"A_CANCELLED_COMPLETE\"]"
   ]
  },
  {
   "cell_type": "code",
   "execution_count": null,
   "id": "19030574",
   "metadata": {
    "scrolled": false
   },
   "outputs": [],
   "source": [
    "log = xes_importer.apply(PATH + \"/\" + NAME + \".xes\")\n",
    "dataset = converter.apply(log,variant=converter.Variants.TO_DATA_FRAME)"
   ]
  },
  {
   "cell_type": "code",
   "execution_count": null,
   "id": "9bf67daf",
   "metadata": {},
   "outputs": [],
   "source": [
    "# remaining time and classification\n",
    "dataset[\"classif_target\"] = dataset[\"concept:name\"] + \"_\" + dataset[\"lifecycle:transition\"]\n",
    "remainTimeOrClassifBenchmark(dataset, PATH, NAME, START_DATE, END_DATE, MAX_DAYS, TEST_LEN_SHARE, \"xes\", KEYWORDS_DICT)"
   ]
  },
  {
   "cell_type": "code",
   "execution_count": null,
   "id": "060fbaa5",
   "metadata": {},
   "outputs": [],
   "source": [
    "# next event\n",
    "dataset[\"activity\"] = dataset[\"concept:name\"] + \"_\" + dataset[\"lifecycle:transition\"]\n",
    "nextEventBenchmark(dataset, PATH, NAME, START_DATE, END_DATE, MAX_DAYS, TEST_LEN_SHARE, \"xes\", \"activity\")"
   ]
  },
  {
   "cell_type": "markdown",
   "id": "advance-litigation",
   "metadata": {},
   "source": [
    "## BPIC_2015"
   ]
  },
  {
   "cell_type": "code",
   "execution_count": null,
   "id": "latest-business",
   "metadata": {},
   "outputs": [],
   "source": [
    "NAME = \"BPIC15_\" \n",
    "PATH = r\"D:\\Data\\BPIC_2015\"\n",
    "START_DATE = \"2010-10\" \n",
    "END_DATE = \"2015-03\"\n",
    "MAX_DAYS = 302.82\n",
    "TEST_LEN_SHARE = .2"
   ]
  },
  {
   "cell_type": "code",
   "execution_count": null,
   "id": "steady-english",
   "metadata": {
    "scrolled": false
   },
   "outputs": [],
   "source": [
    "for munic_nr in range(1, 6):\n",
    "    log = xes_importer.apply(PATH + \"/\" + NAME + str(munic_nr) +\".xes\")\n",
    "    df = converter.apply(log,variant=converter.Variants.TO_DATA_FRAME)\n",
    "    df[\"municipality\"] = munic_nr\n",
    "    df['case:concept:name'] = df['case:concept:name'].astype(\"int\") * 100 + munic_nr  # create unique case numbers\n",
    "    if munic_nr == 1:\n",
    "        dataset = df\n",
    "    else:\n",
    "        dataset = pd.concat([dataset, df])\n",
    "print(\"2015 total len:\", len(dataset))\n",
    "# remaining time\n",
    "remainTimeOrClassifBenchmark(dataset, PATH, NAME, START_DATE, END_DATE, MAX_DAYS, TEST_LEN_SHARE)"
   ]
  },
  {
   "cell_type": "markdown",
   "id": "fabulous-medicare",
   "metadata": {},
   "source": [
    "## BPIC_2017\n",
    "(saved using pickle instead of xes)"
   ]
  },
  {
   "cell_type": "code",
   "execution_count": null,
   "id": "academic-prefix",
   "metadata": {},
   "outputs": [],
   "source": [
    "NAME = \"BPI Challenge 2017\"     \n",
    "PATH = r\"D:\\Data\\BPIC_2017\"\n",
    "START_DATE = None \n",
    "END_DATE = \"2017-01\"\n",
    "MAX_DAYS = 47.81\n",
    "TEST_LEN_SHARE = .2\n",
    "OUTPUT_TYPE = \"pickle\""
   ]
  },
  {
   "cell_type": "code",
   "execution_count": null,
   "id": "e8eadd56",
   "metadata": {},
   "outputs": [],
   "source": [
    "KEYWORDS_DICT = {}\n",
    "KEYWORDS_DICT[\"approved\"] = [\"O_Accepted\"]\n",
    "KEYWORDS_DICT[\"declined\"] = [\"O_Refused\"]\n",
    "KEYWORDS_DICT[\"canceled\"] = [\"O_Cancelled\"]"
   ]
  },
  {
   "cell_type": "code",
   "execution_count": null,
   "id": "1e7d73b0",
   "metadata": {},
   "outputs": [],
   "source": [
    "log = xes_importer.apply(PATH + \"/\" + NAME + \".xes\")\n",
    "dataset = converter.apply(log,variant=converter.Variants.TO_DATA_FRAME)"
   ]
  },
  {
   "cell_type": "code",
   "execution_count": null,
   "id": "6da8d313",
   "metadata": {},
   "outputs": [],
   "source": [
    "# remaining time and classification\n",
    "dataset[\"classif_target\"] = dataset[\"concept:name\"] \n",
    "remainTimeOrClassifBenchmark(dataset, PATH, NAME, START_DATE, END_DATE, MAX_DAYS, TEST_LEN_SHARE, OUTPUT_TYPE, KEYWORDS_DICT)"
   ]
  },
  {
   "cell_type": "code",
   "execution_count": null,
   "id": "1f5e4124",
   "metadata": {},
   "outputs": [],
   "source": [
    "# next event\n",
    "dataset[\"activity\"] = dataset[\"concept:name\"] + \"_\" + dataset[\"lifecycle:transition\"]\n",
    "nextEventBenchmark(dataset, PATH, NAME, START_DATE, END_DATE, MAX_DAYS, TEST_LEN_SHARE, OUTPUT_TYPE, \"activity\")"
   ]
  },
  {
   "cell_type": "markdown",
   "id": "678969a5",
   "metadata": {},
   "source": [
    "## BPIC_2019"
   ]
  },
  {
   "cell_type": "code",
   "execution_count": null,
   "id": "d72fed9d",
   "metadata": {},
   "outputs": [],
   "source": [
    "NAME = \"BPI_Challenge_2019\"\n",
    "PATH = r\"D:\\Data\\BPIC_2019\"\n",
    "START_DATE = \"2018-01\"\n",
    "END_DATE = \"2019-02\"\n",
    "MAX_DAYS = 143.33\n",
    "TEST_LEN_SHARE = .2"
   ]
  },
  {
   "cell_type": "code",
   "execution_count": null,
   "id": "8e47d9db",
   "metadata": {},
   "outputs": [],
   "source": [
    "log = xes_importer.apply(PATH + \"/\" + NAME +\".xes\")\n",
    "dataset = converter.apply(log,variant=converter.Variants.TO_DATA_FRAME)\n",
    "# remaining time\n",
    "remainTimeOrClassifBenchmark(dataset, PATH, NAME, START_DATE, END_DATE, MAX_DAYS, TEST_LEN_SHARE)"
   ]
  },
  {
   "cell_type": "markdown",
   "id": "09906a6f",
   "metadata": {},
   "source": [
    "## BPIC_2020 PAYMENTS"
   ]
  },
  {
   "cell_type": "code",
   "execution_count": null,
   "id": "39f7d457",
   "metadata": {},
   "outputs": [],
   "source": [
    "NAME = \"RequestForPayment\" \n",
    "PATH = r\"D:\\Data\\BPIC_2020\"\n",
    "START_DATE = None \n",
    "END_DATE = \"2018-12\"\n",
    "MAX_DAYS = 28.86\n",
    "TEST_LEN_SHARE = .2"
   ]
  },
  {
   "cell_type": "code",
   "execution_count": null,
   "id": "dbe87c5f",
   "metadata": {},
   "outputs": [],
   "source": [
    "log = xes_importer.apply(PATH + \"/\" + NAME +\".xes\")\n",
    "dataset = converter.apply(log,variant=converter.Variants.TO_DATA_FRAME)\n",
    "# remaining time\n",
    "remainTimeOrClassifBenchmark(dataset, PATH, NAME, START_DATE, END_DATE, MAX_DAYS, TEST_LEN_SHARE)"
   ]
  },
  {
   "cell_type": "markdown",
   "id": "8aa1eded",
   "metadata": {},
   "source": [
    "## BPIC_2020 PERMITS"
   ]
  },
  {
   "cell_type": "code",
   "execution_count": null,
   "id": "8028f303",
   "metadata": {},
   "outputs": [],
   "source": [
    "NAME = \"PermitLog\"\n",
    "PATH = r\"D:\\Data\\BPIC_2020\"\n",
    "START_DATE = None \n",
    "END_DATE = \"2019-10\"\n",
    "MAX_DAYS = 258.81\n",
    "TEST_LEN_SHARE = .2"
   ]
  },
  {
   "cell_type": "code",
   "execution_count": null,
   "id": "0401a579",
   "metadata": {},
   "outputs": [],
   "source": [
    "log = xes_importer.apply(PATH + \"/\" + NAME +\".xes\")\n",
    "dataset = converter.apply(log,variant=converter.Variants.TO_DATA_FRAME)\n",
    "# remaining time\n",
    "remainTimeOrClassifBenchmark(dataset, PATH, NAME, START_DATE, END_DATE, MAX_DAYS, TEST_LEN_SHARE)"
   ]
  },
  {
   "cell_type": "markdown",
   "id": "1ada9977",
   "metadata": {},
   "source": [
    "## BPIC_2020 TRAVEL COSTS"
   ]
  },
  {
   "cell_type": "code",
   "execution_count": null,
   "id": "c384d380",
   "metadata": {},
   "outputs": [],
   "source": [
    "NAME = \"PrepaidTravelCost\" \n",
    "PATH = r\"D:\\Data\\BPIC_2020\"\n",
    "START_DATE = None \n",
    "END_DATE = \"2019-01\"\n",
    "MAX_DAYS = 114.26\n",
    "TEST_LEN_SHARE = .2"
   ]
  },
  {
   "cell_type": "code",
   "execution_count": null,
   "id": "7623aba8",
   "metadata": {
    "scrolled": true
   },
   "outputs": [],
   "source": [
    "log = xes_importer.apply(PATH + \"/\" + NAME +\".xes\")\n",
    "dataset = converter.apply(log,variant=converter.Variants.TO_DATA_FRAME)\n",
    "# remaining time\n",
    "remainTimeOrClassifBenchmark(dataset, PATH, NAME, START_DATE, END_DATE, MAX_DAYS, TEST_LEN_SHARE)"
   ]
  }
 ],
 "metadata": {
  "kernelspec": {
   "display_name": "Python 3",
   "language": "python",
   "name": "python3"
  },
  "language_info": {
   "codemirror_mode": {
    "name": "ipython",
    "version": 3
   },
   "file_extension": ".py",
   "mimetype": "text/x-python",
   "name": "python",
   "nbconvert_exporter": "python",
   "pygments_lexer": "ipython3",
   "version": "3.7.6"
  }
 },
 "nbformat": 4,
 "nbformat_minor": 5
}
